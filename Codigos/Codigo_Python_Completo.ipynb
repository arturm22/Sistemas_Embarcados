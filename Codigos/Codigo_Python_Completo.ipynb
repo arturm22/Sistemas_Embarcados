{
 "cells": [
  {
   "attachments": {},
   "cell_type": "markdown",
   "metadata": {},
   "source": [
    "### Código a partir do Vídeo:\n",
    "\n",
    "https://www.youtube.com/watch?v=pDA4mncyJ8Q&ab_channel=AlexandreH\n",
    "\n",
    "https://www.youtube.com/watch?v=3cwkEOUscXA&ab_channel=AlexandreH"
   ]
  },
  {
   "cell_type": "code",
   "execution_count": 28,
   "metadata": {},
   "outputs": [],
   "source": [
    "import cv2\n",
    "\n",
    "#pytesseract.pytesseract.tesseract_cmd = 'C:\\\\Program Files\\\\Tesseract-OCR\\\\tesseract.exe'\n",
    "import pytesseract\n",
    "\n",
    "import pandas as pd\n",
    "\n"
   ]
  },
  {
   "cell_type": "code",
   "execution_count": 2,
   "metadata": {},
   "outputs": [],
   "source": [
    "def encontrar_a_placa (imagem_carro):\n",
    "    img = cv2.imread(imagem_carro)\n",
    "    #img = cv2.imread('../Imagem/CARRO4.JPG') \n",
    "    #cv2.imshow('img', img)\n",
    "\n",
    "    # Escalas de Cinza para o openCV indentificar\n",
    "    cinza = cv2.cvtColor(img, cv2.COLOR_BGR2GRAY)\n",
    "    #cv2.imshow('cinza', cinza)\n",
    "\n",
    "    # Converter em preto e branco, para binarizar a imagem com as escalas de cores demonstradas com os números \n",
    "    # indo até 128 no coloração preta e 255 na coloração branca\n",
    "\n",
    "    _, bin = cv2.threshold (cinza, 60, 220, cv2.THRESH_BINARY) \n",
    "\n",
    "    # TRESH_BINARY traz o limite para as cores \n",
    "    # _, essa variável necessita de um retorno\n",
    "\n",
    "    #cv2.imshow('bin', bin)\n",
    "\n",
    "    # Desfocar a imagem para identificar melhor as formas geométricas, encontrando melhor os contornos\n",
    "\n",
    "    desfocar = cv2.GaussianBlur(bin, (5,5), 0)\n",
    "    cv2.imshow('Imagem_desfocada', desfocar)\n",
    "\n",
    "    # Agora procurar os contornos\n",
    "\n",
    "    contornos, hierarquia = cv2.findContours(desfocar, cv2.RETR_TREE, cv2.CHAIN_APPROX_NONE)\n",
    "\n",
    "    #cv2.drawContours(img, contornos, -1,  (0 , 255, 0), 2 )\n",
    "\n",
    "    # o -1 é o ID dos contornos, como não precisa dessa informação colocamos o -1\n",
    "    # 0 255 0 ---> Cor do contorno, no caso verde \n",
    "    # 2 ------> largura da borda do contorno\n",
    "\n",
    "    #cv2.imshow('Contornos', img)\n",
    "    #cv2.waitKey(0)\n",
    "    #cv2.destroyAllWindows()\n",
    "\n",
    "    # fazer contornos quadrados \n",
    "\n",
    "    for c in contornos:\n",
    "    \n",
    "        perimetro = cv2.arcLength (c, True)\n",
    "        aprox = cv2.approxPolyDP(c, 0.03*perimetro, True)\n",
    "        \n",
    "        if perimetro > 500:\n",
    "            aprox = cv2.approxPolyDP(c, 0.03*perimetro, True)\n",
    "            \n",
    "            # Igualar a quatro cantos e aproximar a um retângulo\n",
    "\n",
    "            if len (aprox) == 4:\n",
    "                (x, y, altura, largura) = cv2.boundingRect(c)\n",
    "                cv2.rectangle (img, (x,y), (x+altura, y+largura), (0,255,0), 2)\n",
    "\n",
    "                temporario = img[y:y + largura, x:x + altura]\n",
    "                cv2.imwrite('../Imagem/Imagem_temporaria.jpg', temporario)\n",
    "\n",
    "    cv2.imshow ('Placa_contornada', img)\n",
    "    cv2.waitKey(0) \n",
    "    cv2.destroyAllWindows()\n",
    "\n"
   ]
  },
  {
   "cell_type": "code",
   "execution_count": 3,
   "metadata": {},
   "outputs": [],
   "source": [
    "def pre_processamento():\n",
    "    \n",
    "    imagem_placa = cv2.imread('..\\Imagem\\Imagem_temporaria.jpg') \n",
    "\n",
    "    if imagem_placa is None:\n",
    "        return\n",
    "    \n",
    "    # Aumentar a imagem para um melhor ajuste no tesseract\n",
    "\n",
    "    img_aumentada = cv2.resize(imagem_placa, None, fx=4, fy=4, interpolation=cv2.INTER_CUBIC)\n",
    "    \n",
    "    # O 50 e o 255 são colocados na placa, é a margem do quanto de branco e cinza serão adicionados na imagem para realçar as letras \n",
    "\n",
    "    img_cinza = cv2.cvtColor(img_aumentada, cv2.COLOR_BGR2GRAY)\n",
    "    \n",
    "    #img_cinza = cv2.cvtColor(img_aumentada, cv2.COLOR_BGR2GRAY)\n",
    "\n",
    "    _, img_binaria = cv2.threshold (img_cinza, 65, 200, cv2.THRESH_BINARY)\n",
    "\n",
    "    # Salvar a imagem binarizada e em cinza\n",
    "\n",
    "    cv2.imwrite('../Imagem/placa_binarizada.jpg', img_binaria)\n",
    "    cv2.imwrite('../Imagem/placa_binarizada_png.png', img_binaria)\n",
    "\n",
    "    #cv2.imshow(\"ler_placa\", imagem_placa)\n",
    "    #cv2.imshow(\"placa_cinza\", img_cinza)\n",
    "    cv2.imshow(\"placa_binaria\", img_binaria)\n",
    "    cv2.waitKey(0) \n",
    "    cv2.destroyAllWindows()\n"
   ]
  },
  {
   "cell_type": "code",
   "execution_count": 4,
   "metadata": {},
   "outputs": [],
   "source": [
    "def Ocr_da_Placa():\n",
    "    \n",
    "    img_ocr = cv2.imread('../Imagem/placa_binarizada.jpg')\n",
    "\n",
    "    config = r'-c tessedit_char_whitelist=ABCDEFGHIJKLMNOPQRSTUVWYXZ0123456789 --psm 6'\n",
    "    # A saida será em inglês para ler melhor a placa em lang = eng\n",
    "\n",
    "    saida = pytesseract.image_to_string(img_ocr, lang=\"eng\", config=config)\n",
    "    print(saida)\n",
    "\n",
    "    "
   ]
  },
  {
   "cell_type": "code",
   "execution_count": null,
   "metadata": {},
   "outputs": [],
   "source": [
    "def tirar_foto:\n",
    "\n",
    "    from picamera import PiCamera\n",
    "    from time import sleep\n",
    "\n",
    "    camera = PiCamera()\n",
    "\n",
    "    camera.resolution = (600,450)\n",
    "\n",
    "    camera.start_preview()\n",
    "    for i in range(5):\n",
    "        sleep(2)\n",
    "        camera.capture('..Imagem/Foto%s.jpg' % i)\n",
    "    camera.stop_preview() "
   ]
  },
  {
   "cell_type": "code",
   "execution_count": 8,
   "metadata": {},
   "outputs": [
    {
     "name": "stdout",
     "output_type": "stream",
     "text": [
      "SHS311\n",
      "\n"
     ]
    }
   ],
   "source": [
    "if __name__ == \"__main__\":\n",
    "\n",
    "    tirar_foto()\n",
    "\n",
    "    for i in range (5):\n",
    "        \n",
    "        imagem_carro = '../Imagem/Foto%s.jpg' % i;\n",
    "\n",
    "        encontrar_a_placa(imagem_carro)\n",
    "\n",
    "        pre_processamento()\n",
    "\n",
    "        Ocr_da_Placa()\n"
   ]
  },
  {
   "cell_type": "code",
   "execution_count": 75,
   "metadata": {},
   "outputs": [],
   "source": [
    "Banco_de_dados = pd.read_csv('..\\Biblioteca\\Moradores.csv')\n"
   ]
  },
  {
   "cell_type": "code",
   "execution_count": 78,
   "metadata": {},
   "outputs": [
    {
     "data": {
      "text/html": [
       "<div>\n",
       "<style scoped>\n",
       "    .dataframe tbody tr th:only-of-type {\n",
       "        vertical-align: middle;\n",
       "    }\n",
       "\n",
       "    .dataframe tbody tr th {\n",
       "        vertical-align: top;\n",
       "    }\n",
       "\n",
       "    .dataframe thead th {\n",
       "        text-align: right;\n",
       "    }\n",
       "</style>\n",
       "<table border=\"1\" class=\"dataframe\">\n",
       "  <thead>\n",
       "    <tr style=\"text-align: right;\">\n",
       "      <th></th>\n",
       "      <th>PLACA</th>\n",
       "      <th>MORADOR</th>\n",
       "      <th>NUMERO DA RESIDENCIA</th>\n",
       "    </tr>\n",
       "  </thead>\n",
       "  <tbody>\n",
       "    <tr>\n",
       "      <th>0</th>\n",
       "      <td>ATF7354</td>\n",
       "      <td>JOAO</td>\n",
       "      <td>1</td>\n",
       "    </tr>\n",
       "    <tr>\n",
       "      <th>1</th>\n",
       "      <td>BEE4R22</td>\n",
       "      <td>PAULO</td>\n",
       "      <td>2</td>\n",
       "    </tr>\n",
       "    <tr>\n",
       "      <th>2</th>\n",
       "      <td>ATF7355</td>\n",
       "      <td>MARIA</td>\n",
       "      <td>3</td>\n",
       "    </tr>\n",
       "    <tr>\n",
       "      <th>3</th>\n",
       "      <td>BEE4R23</td>\n",
       "      <td>SABRINA</td>\n",
       "      <td>4</td>\n",
       "    </tr>\n",
       "    <tr>\n",
       "      <th>4</th>\n",
       "      <td>SHS311</td>\n",
       "      <td>JORGE</td>\n",
       "      <td>5</td>\n",
       "    </tr>\n",
       "    <tr>\n",
       "      <th>5</th>\n",
       "      <td>BEE4R24</td>\n",
       "      <td>MARCELO</td>\n",
       "      <td>6</td>\n",
       "    </tr>\n",
       "    <tr>\n",
       "      <th>6</th>\n",
       "      <td>ATF7357</td>\n",
       "      <td>LUIS</td>\n",
       "      <td>7</td>\n",
       "    </tr>\n",
       "    <tr>\n",
       "      <th>7</th>\n",
       "      <td>BEE4R25</td>\n",
       "      <td>GUSTAVO</td>\n",
       "      <td>8</td>\n",
       "    </tr>\n",
       "    <tr>\n",
       "      <th>8</th>\n",
       "      <td>ATF7358</td>\n",
       "      <td>THIAGO</td>\n",
       "      <td>9</td>\n",
       "    </tr>\n",
       "    <tr>\n",
       "      <th>9</th>\n",
       "      <td>1BEE4R26</td>\n",
       "      <td>ARTUR</td>\n",
       "      <td>10</td>\n",
       "    </tr>\n",
       "  </tbody>\n",
       "</table>\n",
       "</div>"
      ],
      "text/plain": [
       "      PLACA  MORADOR  NUMERO DA RESIDENCIA\n",
       "0   ATF7354     JOAO                     1\n",
       "1   BEE4R22    PAULO                     2\n",
       "2   ATF7355    MARIA                     3\n",
       "3   BEE4R23  SABRINA                     4\n",
       "4    SHS311    JORGE                     5\n",
       "5   BEE4R24  MARCELO                     6\n",
       "6   ATF7357     LUIS                     7\n",
       "7   BEE4R25  GUSTAVO                     8\n",
       "8   ATF7358   THIAGO                     9\n",
       "9  1BEE4R26    ARTUR                    10"
      ]
     },
     "execution_count": 78,
     "metadata": {},
     "output_type": "execute_result"
    }
   ],
   "source": [
    "Banco_de_dados.head(10)"
   ]
  },
  {
   "cell_type": "code",
   "execution_count": 65,
   "metadata": {},
   "outputs": [
    {
     "name": "stdout",
     "output_type": "stream",
     "text": [
      "<class 'pandas.core.frame.DataFrame'>\n",
      "Index: 10 entries, ATF7354 to BEE4R26\n",
      "Data columns (total 3 columns):\n",
      " #   Column                Non-Null Count  Dtype  \n",
      "---  ------                --------------  -----  \n",
      " 0   PLACA                 10 non-null     object \n",
      " 1   MORADOR               10 non-null     int64  \n",
      " 2   NUMERO DA RESIDENCIA  0 non-null      float64\n",
      "dtypes: float64(1), int64(1), object(1)\n",
      "memory usage: 320.0+ bytes\n"
     ]
    }
   ],
   "source": [
    "Banco_de_dados.info()"
   ]
  },
  {
   "cell_type": "code",
   "execution_count": 77,
   "metadata": {},
   "outputs": [
    {
     "data": {
      "text/plain": [
       "0     True\n",
       "1    False\n",
       "2    False\n",
       "3    False\n",
       "4    False\n",
       "5    False\n",
       "6    False\n",
       "7    False\n",
       "8    False\n",
       "9    False\n",
       "Name: PLACA, dtype: bool"
      ]
     },
     "execution_count": 77,
     "metadata": {},
     "output_type": "execute_result"
    }
   ],
   "source": [
    "Banco_de_dados['PLACA'] == 'ATF7354'"
   ]
  }
 ],
 "metadata": {
  "kernelspec": {
   "display_name": "base",
   "language": "python",
   "name": "python3"
  },
  "language_info": {
   "codemirror_mode": {
    "name": "ipython",
    "version": 3
   },
   "file_extension": ".py",
   "mimetype": "text/x-python",
   "name": "python",
   "nbconvert_exporter": "python",
   "pygments_lexer": "ipython3",
   "version": "3.9.12"
  },
  "orig_nbformat": 4
 },
 "nbformat": 4,
 "nbformat_minor": 2
}
